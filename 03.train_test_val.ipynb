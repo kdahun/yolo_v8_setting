{
 "cells": [
  {
   "cell_type": "code",
   "execution_count": 13,
   "metadata": {},
   "outputs": [],
   "source": [
    "import os\n",
    "from sklearn.model_selection import train_test_split\n",
    "import shutil\n",
    "\n",
    "img_label = \"maid_tale_image_label\"\n",
    "img_path = os.path.join(img_label,'train\\\\images')\n",
    "img_test_path = os.path.join(img_label,'test\\\\images')\n",
    "img_val_path = os.path.join(img_label,'val\\\\images')\n",
    "\n",
    "X = os.listdir(img_path)\n",
    "\n",
    "label_path= os.path.join(img_label,'train\\\\labels')\n",
    "label_test_path = os.path.join(img_label,'test\\\\labels')\n",
    "label_val_path = os.path.join(img_label,'val\\\\labels')\n",
    "\n",
    "y=os.listdir(label_path)\n",
    "\n",
    "train_X,test_X,train_y,test_y =train_test_split(X,y,test_size=0.3, random_state=42)\n",
    "test_X,val_X,test_y,val_y =train_test_split(test_X,test_y,test_size=0.3, random_state=42)"
   ]
  },
  {
   "cell_type": "code",
   "execution_count": 14,
   "metadata": {},
   "outputs": [],
   "source": [
    "for image,label in zip(test_X,test_y):\n",
    "    old_image_path=os.path.join(img_path,image)\n",
    "    old_label_path=os.path.join(label_path,label)\n",
    "    new_image_path=os.path.join(img_test_path,image)\n",
    "    new_label_path=os.path.join(label_test_path,label)\n",
    "    \n",
    "    shutil.move(old_image_path,new_image_path)\n",
    "    shutil.move(old_label_path,new_label_path)"
   ]
  },
  {
   "cell_type": "code",
   "execution_count": 15,
   "metadata": {},
   "outputs": [],
   "source": [
    "for image,label in zip(val_X,val_y):\n",
    "    old_image_path=os.path.join(img_path,image)\n",
    "    old_label_path=os.path.join(label_path,label)\n",
    "    new_image_path=os.path.join(img_val_path,image)\n",
    "    new_label_path=os.path.join(label_val_path,label)\n",
    "    \n",
    "    shutil.move(old_image_path,new_image_path)\n",
    "    shutil.move(old_label_path,new_label_path)"
   ]
  },
  {
   "cell_type": "code",
   "execution_count": 16,
   "metadata": {},
   "outputs": [
    {
     "name": "stdout",
     "output_type": "stream",
     "text": [
      "329 329\n",
      "99 99\n",
      "43 43\n"
     ]
    }
   ],
   "source": [
    "print(len(os.listdir(img_path)),len(os.listdir(label_path)))\n",
    "print(len(os.listdir(img_test_path)),len(os.listdir(label_test_path)))\n",
    "print(len(os.listdir(img_val_path)),len(os.listdir(label_val_path)))"
   ]
  },
  {
   "cell_type": "code",
   "execution_count": null,
   "metadata": {},
   "outputs": [],
   "source": []
  },
  {
   "cell_type": "code",
   "execution_count": null,
   "metadata": {},
   "outputs": [],
   "source": []
  }
 ],
 "metadata": {
  "kernelspec": {
   "display_name": "yolov8",
   "language": "python",
   "name": "python3"
  },
  "language_info": {
   "codemirror_mode": {
    "name": "ipython",
    "version": 3
   },
   "file_extension": ".py",
   "mimetype": "text/x-python",
   "name": "python",
   "nbconvert_exporter": "python",
   "pygments_lexer": "ipython3",
   "version": "3.8.19"
  }
 },
 "nbformat": 4,
 "nbformat_minor": 2
}
