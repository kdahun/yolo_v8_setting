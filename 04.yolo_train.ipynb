{
 "cells": [
  {
   "cell_type": "code",
   "execution_count": 2,
   "metadata": {},
   "outputs": [
    {
     "name": "stdout",
     "output_type": "stream",
     "text": [
      "Ultralytics YOLOv8.2.58  Python-3.8.19 torch-2.3.1+cu118 CUDA:0 (NVIDIA GeForce RTX 3080 Ti, 12287MiB)\n",
      "Setup complete  (36 CPUs, 63.7 GB RAM, 24.0/3726.0 GB disk)\n"
     ]
    }
   ],
   "source": [
    "import ultralytics\n",
    "\n",
    "ultralytics.checks()"
   ]
  },
  {
   "cell_type": "code",
   "execution_count": 3,
   "metadata": {},
   "outputs": [],
   "source": [
    "from ultralytics import YOLO\n",
    "\n",
    "model = YOLO('yolov8n.pt')"
   ]
  },
  {
   "cell_type": "code",
   "execution_count": 4,
   "metadata": {},
   "outputs": [
    {
     "name": "stdout",
     "output_type": "stream",
     "text": [
      "<class 'dict'> 80\n",
      "{0: 'person', 1: 'bicycle', 2: 'car', 3: 'motorcycle', 4: 'airplane', 5: 'bus', 6: 'train', 7: 'truck', 8: 'boat', 9: 'traffic light', 10: 'fire hydrant', 11: 'stop sign', 12: 'parking meter', 13: 'bench', 14: 'bird', 15: 'cat', 16: 'dog', 17: 'horse', 18: 'sheep', 19: 'cow', 20: 'elephant', 21: 'bear', 22: 'zebra', 23: 'giraffe', 24: 'backpack', 25: 'umbrella', 26: 'handbag', 27: 'tie', 28: 'suitcase', 29: 'frisbee', 30: 'skis', 31: 'snowboard', 32: 'sports ball', 33: 'kite', 34: 'baseball bat', 35: 'baseball glove', 36: 'skateboard', 37: 'surfboard', 38: 'tennis racket', 39: 'bottle', 40: 'wine glass', 41: 'cup', 42: 'fork', 43: 'knife', 44: 'spoon', 45: 'bowl', 46: 'banana', 47: 'apple', 48: 'sandwich', 49: 'orange', 50: 'broccoli', 51: 'carrot', 52: 'hot dog', 53: 'pizza', 54: 'donut', 55: 'cake', 56: 'chair', 57: 'couch', 58: 'potted plant', 59: 'bed', 60: 'dining table', 61: 'toilet', 62: 'tv', 63: 'laptop', 64: 'mouse', 65: 'remote', 66: 'keyboard', 67: 'cell phone', 68: 'microwave', 69: 'oven', 70: 'toaster', 71: 'sink', 72: 'refrigerator', 73: 'book', 74: 'clock', 75: 'vase', 76: 'scissors', 77: 'teddy bear', 78: 'hair drier', 79: 'toothbrush'}\n"
     ]
    }
   ],
   "source": [
    "print(type(model.names), len(model.names))\n",
    "print(model.names)"
   ]
  },
  {
   "cell_type": "code",
   "execution_count": 1,
   "metadata": {},
   "outputs": [
    {
     "ename": "NameError",
     "evalue": "name 'model' is not defined",
     "output_type": "error",
     "traceback": [
      "\u001b[1;31m---------------------------------------------------------------------------\u001b[0m",
      "\u001b[1;31mNameError\u001b[0m                                 Traceback (most recent call last)",
      "Cell \u001b[1;32mIn[1], line 1\u001b[0m\n\u001b[1;32m----> 1\u001b[0m \u001b[43mmodel\u001b[49m\u001b[38;5;241m.\u001b[39mtrain(data\u001b[38;5;241m=\u001b[39m\u001b[38;5;124m\"\u001b[39m\u001b[38;5;124m./maid_tale_image_label/data.yaml\u001b[39m\u001b[38;5;124m\"\u001b[39m, epochs \u001b[38;5;241m=\u001b[39m \u001b[38;5;241m100\u001b[39m, patience \u001b[38;5;241m=\u001b[39m \u001b[38;5;241m30\u001b[39m, batch \u001b[38;5;241m=\u001b[39m \u001b[38;5;241m32\u001b[39m)\n",
      "\u001b[1;31mNameError\u001b[0m: name 'model' is not defined"
     ]
    }
   ],
   "source": [
    "model.train(data=\"./maid_tale_image_label/data.yaml\", epochs = 100, patience = 30, batch = 32)"
   ]
  },
  {
   "cell_type": "code",
   "execution_count": null,
   "metadata": {},
   "outputs": [],
   "source": [
    "print(type(model.names), len(model.names))\n",
    "print(model.names)"
   ]
  },
  {
   "cell_type": "code",
   "execution_count": null,
   "metadata": {},
   "outputs": [],
   "source": [
    "import os\n",
    "path_label = \"C://Users//GPUserver//yolov8//maid_tale_image_label//train//labels//\"\n",
    "label_list = os.listdir(\"C://Users//GPUserver//yolov8//maid_tale_image_label//train//labels\")"
   ]
  },
  {
   "cell_type": "code",
   "execution_count": null,
   "metadata": {},
   "outputs": [],
   "source": [
    "label_list"
   ]
  },
  {
   "cell_type": "code",
   "execution_count": null,
   "metadata": {},
   "outputs": [],
   "source": [
    "path_label"
   ]
  },
  {
   "cell_type": "code",
   "execution_count": null,
   "metadata": {},
   "outputs": [],
   "source": [
    "for label in label_list:\n",
    "    text_path = os.path.join(path_label+label)\n",
    "    f = open(text_path, 'r')\n",
    "    line = f.readline()\n",
    "    if line[-2:-1] != \"\\n\":\n",
    "        print(text_path)\n",
    "        print(\"class\"+line)\n",
    "    f.close()"
   ]
  },
  {
   "cell_type": "code",
   "execution_count": null,
   "metadata": {},
   "outputs": [],
   "source": [
    "f = open(\"C:/doit/새파일.txt\", 'r')\n",
    "line = f.readline()\n",
    "print(line)\n",
    "f.close()"
   ]
  },
  {
   "cell_type": "code",
   "execution_count": null,
   "metadata": {},
   "outputs": [],
   "source": [
    "import torch\n",
    "\n",
    "# 정확한 스택 추적을 얻기 위해 CUDA_LAUNCH_BLOCKING=1 설정\n",
    "import os\n",
    "os.environ['CUDA_LAUNCH_BLOCKING'] = '1'\n",
    "\n",
    "# 여기에 학습 코드 추가\n",
    "try:\n",
    "    model.train(data=\"C:/Users/GPUserver/yolov8/maid_tale_image_label/data.yaml\", epochs=100, patience=30, batch=10, imgsz=416)\n",
    "except RuntimeError as e:\n",
    "    print(\"RuntimeError:\", e)\n",
    "    if 'device-side assert' in str(e):\n",
    "        print(\"CUDA device-side assert triggered. 인덱스 초과, 텐서 형태 불일치 또는 잘못된 연산을 확인하세요.\")\n",
    "    raise\n"
   ]
  },
  {
   "cell_type": "code",
   "execution_count": null,
   "metadata": {},
   "outputs": [],
   "source": [
    "import torch\n",
    "import os\n",
    "\n",
    "# 정확한 스택 추적을 얻기 위해 CUDA_LAUNCH_BLOCKING=1 설정\n",
    "os.environ['CUDA_LAUNCH_BLOCKING'] = '1'\n",
    "\n",
    "class YourModelClass(torch.nn.Module):\n",
    "    def __init__(self):\n",
    "        super(YourModelClass, self).__init__()\n",
    "        self.model = torch.nn.Module()  # 여기에 실제 모델 초기화 코드 작성\n",
    "\n",
    "    def forward(self, x):\n",
    "        # 순방향 패스 중 텐서의 형태와 타입 출력\n",
    "        print(\"Input tensor shape:\", x.shape)\n",
    "        print(\"Input tensor dtype:\", x.dtype)\n",
    "        output = self.model(x)\n",
    "        print(\"Output tensor shape:\", output.shape)\n",
    "        print(\"Output tensor dtype:\", output.dtype)\n",
    "        return output\n",
    "\n",
    "    def loss(self, batch, preds):\n",
    "        # 손실 계산 중 텐서의 형태와 타입 출력\n",
    "        print(\"Batch tensor shape:\", batch['img'].shape)\n",
    "        print(\"Batch tensor dtype:\", batch['img'].dtype)\n",
    "        print(\"Preds tensor shape:\", preds.shape)\n",
    "        print(\"Preds tensor dtype:\", preds.dtype)\n",
    "        return self.criterion(preds, batch)\n",
    "\n",
    "model = YOLO(\"yolov8n.pt\")\n",
    "\n",
    "try:\n",
    "    # 여기에 모델 학습 코드 작성\n",
    "    model.train(data=\"C:/Users/GPUserver/yolov8/maid_tale_image_label/data.yaml\", epochs=100, patience=30, batch=10, imgsz=416)\n",
    "except RuntimeError as e:\n",
    "    print(\"RuntimeError:\", e)\n",
    "    if 'device-side assert' in str(e):\n",
    "        print(\"CUDA device-side assert triggered. 인덱스 초과, 텐서 형태 불일치 또는 잘못된 연산을 확인하세요.\")\n",
    "    raise\n"
   ]
  },
  {
   "cell_type": "code",
   "execution_count": null,
   "metadata": {},
   "outputs": [],
   "source": [
    "from ultralytics import YOLO\n",
    "\n",
    "class CustomYOLO(YOLO):\n",
    "    def forward(self, x):\n",
    "        print(\"Input tensor shape:\", x.shape)\n",
    "        print(\"Input tensor dtype:\", x.dtype)\n",
    "        output = super().forward(x)\n",
    "        print(\"Output tensor shape:\", output.shape)\n",
    "        print(\"Output tensor dtype:\", output.dtype)\n",
    "        return output\n",
    "\n",
    "    def loss(self, batch, preds):\n",
    "        print(\"Batch tensor shape:\", batch['img'].shape)\n",
    "        print(\"Batch tensor dtype:\", batch['img'].dtype)\n",
    "        print(\"Preds tensor shape:\", preds.shape)\n",
    "        print(\"Preds tensor dtype:\", preds.dtype)\n",
    "        return super().loss(batch, preds)\n",
    "\n",
    "# 모델 초기화\n",
    "model = CustomYOLO(\"yolov8n.pt\")\n",
    "\n",
    "# 모델 훈련\n",
    "model.train(data=\"C:/Users/GPUserver/yolov8/maid_tale_image_label/data.yaml\", epochs=100, patience=30, batch=10, imgsz=416)\n"
   ]
  },
  {
   "cell_type": "code",
   "execution_count": null,
   "metadata": {},
   "outputs": [],
   "source": [
    "import matplotlib.pyplot as plt\n",
    "import cv2\n",
    "\n",
    "# 데이터셋 경로와 샘플 이미지 경로 설정\n",
    "data_path = \"C:/Users/GPUserver/yolov8/maid_tale_image_label/data.yaml\"\n",
    "sample_img_path = \"C:/Users/GPUserver/yolov8/maid_tale_image_label/train/images/119.jpg\"\n",
    "sample_label_path = \"C:/Users/GPUserver/yolov8/maid_tale_image_label/train/labels/119.txt\"\n",
    "\n",
    "# 샘플 이미지와 라벨 로드\n",
    "img = cv2.imread(sample_img_path)\n",
    "with open(sample_label_path, 'r') as f:\n",
    "    labels = f.readlines()\n",
    "\n",
    "# 바운딩 박스 시각화\n",
    "for label in labels:\n",
    "    class_id, x, y, w, h = map(float, label.strip().split())\n",
    "    x1, y1, x2, y2 = int((x - w / 2) * img.shape[1]), int((y - h / 2) * img.shape[0]), int((x + w / 2) * img.shape[1]), int((y + h / 2) * img.shape[0])\n",
    "    cv2.rectangle(img, (x1, y1), (x2, y2), (255, 0, 0), 2)\n",
    "\n",
    "plt.imshow(cv2.cvtColor(img, cv2.COLOR_BGR2RGB))\n",
    "plt.show()\n"
   ]
  },
  {
   "cell_type": "code",
   "execution_count": null,
   "metadata": {},
   "outputs": [],
   "source": [
    "import matplotlib.pyplot as plt\n",
    "import cv2\n",
    "\n",
    "# 데이터셋 경로와 샘플 이미지 경로 설정\n",
    "data_path = \"C:/Users/GPUserver/yolov8/maid_tale_image_label/data.yaml\"\n",
    "sample_img_path = \"C:/Users/GPUserver/yolov8/maid_tale_image_label/train/images/119.jpg\"\n",
    "sample_label_path = \"C:/Users/GPUserver/yolov8/maid_tale_image_label/train/labels/119.txt\"\n",
    "\n",
    "# 샘플 이미지와 라벨 로드\n",
    "img = cv2.imread(sample_img_path)\n",
    "if img is None:\n",
    "    raise FileNotFoundError(f\"이미지를 로드할 수 없습니다: {sample_img_path}\")\n",
    "\n",
    "# 라벨 로드\n",
    "with open(sample_label_path, 'r') as f:\n",
    "    labels = f.readlines()\n",
    "\n",
    "# 바운딩 박스 시각화\n",
    "for label in labels:\n",
    "    class_id, x, y, w, h = map(float, label.strip().split())\n",
    "    x1, y1, x2, y2 = int((x - w / 2) * img.shape[1]), int((y - h / 2) * img.shape[0]), int((x + w / 2) * img.shape[1]), int((y + h / 2) * img.shape[0])\n",
    "    cv2.rectangle(img, (x1, y1), (x2, y2), (255, 0, 0), 2)\n",
    "\n",
    "plt.imshow(cv2.cvtColor(img, cv2.COLOR_BGR2RGB))\n",
    "plt.show()\n"
   ]
  },
  {
   "cell_type": "code",
   "execution_count": null,
   "metadata": {},
   "outputs": [],
   "source": [
    "import matplotlib.pyplot as plt\n",
    "import cv2\n",
    "\n",
    "# 데이터셋 경로와 샘플 이미지 경로 설정\n",
    "data_path = \"C:/Users/GPUserver/yolov8/maid_tale_image_label/data.yaml\"\n",
    "sample_img_path = \"C:/Users/GPUserver/yolov8/maid_tale_image_label/train/images/119.jpg\"\n",
    "sample_label_path = \"C:/Users/GPUserver/yolov8/maid_tale_image_label/train/labels/119.txt\"\n",
    "\n",
    "# 샘플 이미지와 라벨 로드\n",
    "img = cv2.imread(sample_img_path)\n",
    "if img is None:\n",
    "    raise FileNotFoundError(f\"이미지를 로드할 수 없습니다: {sample_img_path}\")\n",
    "else:\n",
    "    print(f\"이미지 로드 성공: {sample_img_path}, shape: {img.shape}\")\n",
    "\n",
    "# 라벨 로드\n",
    "with open(sample_label_path, 'r') as f:\n",
    "    labels = f.readlines()\n",
    "\n",
    "print(\"Labels:\", labels)\n",
    "\n",
    "# 바운딩 박스 시각화\n",
    "for label in labels:\n",
    "    class_id, x, y, w, h = map(float, label.strip().split())\n",
    "    x1, y1, x2, y2 = int((x - w / 2) * img.shape[1]), int((y - h / 2) * img.shape[0]), int((x + w / 2) * img.shape[1]), int((y + h / 2) * img.shape[0])\n",
    "    cv2.rectangle(img, (x1, y1), (x2, y2), (255, 0, 0), 2)\n",
    "\n",
    "# OpenCV로 이미지 출력 (확인용)\n",
    "cv2.imshow('image', img)\n",
    "cv2.waitKey(0)\n",
    "cv2.destroyAllWindows()\n",
    "\n",
    "# Matplotlib 백엔드 설정 및 기본 설정 초기화\n",
    "import matplotlib\n",
    "matplotlib.use('Agg')  # 'Agg' 백엔드 사용\n",
    "plt.rcdefaults()  # 기본 설정 초기화\n",
    "\n",
    "# Matplotlib로 이미지 출력\n",
    "plt.figure()\n",
    "plt.imshow(cv2.cvtColor(img, cv2.COLOR_BGR2RGB))\n",
    "plt.axis('off')  # 축 숨기기\n",
    "plt.show()"
   ]
  },
  {
   "cell_type": "code",
   "execution_count": null,
   "metadata": {},
   "outputs": [],
   "source": [
    "%matplotlib inline\n",
    "import matplotlib.pyplot as plt\n",
    "import cv2\n",
    "\n",
    "# 데이터셋 경로와 샘플 이미지 경로 설정\n",
    "data_path = \"C:/Users/GPUserver/yolov8/maid_tale_image_label/data.yaml\"\n",
    "sample_img_path = \"C:/Users/GPUserver/yolov8/maid_tale_image_label/train/images/119.jpg\"\n",
    "sample_label_path = \"C:/Users/GPUserver/yolov8/maid_tale_image_label/train/labels/119.txt\"\n",
    "\n",
    "# 샘플 이미지와 라벨 로드\n",
    "img = cv2.imread(sample_img_path)\n",
    "if img is None:\n",
    "    raise FileNotFoundError(f\"이미지를 로드할 수 없습니다: {sample_img_path}\")\n",
    "else:\n",
    "    print(f\"이미지 로드 성공: {sample_img_path}, shape: {img.shape}\")\n",
    "\n",
    "# 라벨 로드\n",
    "with open(sample_label_path, 'r') as f:\n",
    "    labels = f.readlines()\n",
    "\n",
    "print(\"Labels:\", labels)\n",
    "\n",
    "# 바운딩 박스 시각화\n",
    "for label in labels:\n",
    "    class_id, x, y, w, h = map(float, label.strip().split())\n",
    "    x1, y1, x2, y2 = int((x - w / 2) * img.shape[1]), int((y - h / 2) * img.shape[0]), int((x + w / 2) * img.shape[1]), int((y + h / 2) * img.shape[0])\n",
    "    cv2.rectangle(img, (x1, y1), (x2, y2), (255, 0, 0), 2)\n",
    "\n",
    "# Matplotlib로 이미지 출력\n",
    "plt.figure()\n",
    "plt.imshow(cv2.cvtColor(img, cv2.COLOR_BGR2RGB))\n",
    "plt.axis('off')  # 축 숨기기\n",
    "plt.show()\n"
   ]
  },
  {
   "cell_type": "code",
   "execution_count": null,
   "metadata": {},
   "outputs": [],
   "source": []
  }
 ],
 "metadata": {
  "kernelspec": {
   "display_name": "yolov8",
   "language": "python",
   "name": "python3"
  },
  "language_info": {
   "codemirror_mode": {
    "name": "ipython",
    "version": 3
   },
   "file_extension": ".py",
   "mimetype": "text/x-python",
   "name": "python",
   "nbconvert_exporter": "python",
   "pygments_lexer": "ipython3",
   "version": "3.8.19"
  }
 },
 "nbformat": 4,
 "nbformat_minor": 2
}
