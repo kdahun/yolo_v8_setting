{
 "cells": [
  {
   "cell_type": "code",
   "execution_count": 1,
   "id": "57306e28",
   "metadata": {},
   "outputs": [],
   "source": [
    "from ultralytics import YOLO\n",
    "import cv2"
   ]
  },
  {
   "cell_type": "code",
   "execution_count": 1,
   "id": "a35be3d0",
   "metadata": {},
   "outputs": [
    {
     "name": "stdout",
     "output_type": "stream",
     "text": [
      "\n",
      "image 1/134 c:\\Users\\GPUserver\\yolov8\\frame\\notebook\\0.png: 192x416 (no detections), 104.9ms\n",
      "image 2/134 c:\\Users\\GPUserver\\yolov8\\frame\\notebook\\10.png: 192x416 (no detections), 5.7ms\n",
      "image 3/134 c:\\Users\\GPUserver\\yolov8\\frame\\notebook\\100.png: 192x416 (no detections), 0.0ms\n",
      "image 4/134 c:\\Users\\GPUserver\\yolov8\\frame\\notebook\\102.png: 192x416 (no detections), 0.2ms\n",
      "image 5/134 c:\\Users\\GPUserver\\yolov8\\frame\\notebook\\104.png: 192x416 (no detections), 5.6ms\n",
      "image 6/134 c:\\Users\\GPUserver\\yolov8\\frame\\notebook\\105.png: 192x416 (no detections), 6.7ms\n",
      "image 7/134 c:\\Users\\GPUserver\\yolov8\\frame\\notebook\\106.png: 192x416 (no detections), 0.0ms\n",
      "image 8/134 c:\\Users\\GPUserver\\yolov8\\frame\\notebook\\108.png: 192x416 (no detections), 6.8ms\n",
      "image 9/134 c:\\Users\\GPUserver\\yolov8\\frame\\notebook\\110.png: 192x416 (no detections), 5.9ms\n",
      "image 10/134 c:\\Users\\GPUserver\\yolov8\\frame\\notebook\\111.png: 192x416 (no detections), 12.6ms\n",
      "image 11/134 c:\\Users\\GPUserver\\yolov8\\frame\\notebook\\112.png: 192x416 (no detections), 0.0ms\n",
      "image 12/134 c:\\Users\\GPUserver\\yolov8\\frame\\notebook\\114.png: 192x416 (no detections), 6.6ms\n",
      "image 13/134 c:\\Users\\GPUserver\\yolov8\\frame\\notebook\\116.png: 192x416 (no detections), 6.9ms\n",
      "image 14/134 c:\\Users\\GPUserver\\yolov8\\frame\\notebook\\117.png: 192x416 (no detections), 6.3ms\n",
      "image 15/134 c:\\Users\\GPUserver\\yolov8\\frame\\notebook\\118.png: 192x416 (no detections), 6.4ms\n",
      "image 16/134 c:\\Users\\GPUserver\\yolov8\\frame\\notebook\\12.png: 192x416 (no detections), 6.9ms\n",
      "image 17/134 c:\\Users\\GPUserver\\yolov8\\frame\\notebook\\120.png: 192x416 (no detections), 0.0ms\n",
      "image 18/134 c:\\Users\\GPUserver\\yolov8\\frame\\notebook\\122.png: 192x416 (no detections), 6.6ms\n",
      "image 19/134 c:\\Users\\GPUserver\\yolov8\\frame\\notebook\\123.png: 192x416 (no detections), 6.9ms\n",
      "image 20/134 c:\\Users\\GPUserver\\yolov8\\frame\\notebook\\124.png: 192x416 (no detections), 13.3ms\n",
      "image 21/134 c:\\Users\\GPUserver\\yolov8\\frame\\notebook\\126.png: 192x416 (no detections), 10.3ms\n",
      "image 22/134 c:\\Users\\GPUserver\\yolov8\\frame\\notebook\\128.png: 192x416 (no detections), 8.8ms\n",
      "image 23/134 c:\\Users\\GPUserver\\yolov8\\frame\\notebook\\129.png: 192x416 (no detections), 9.7ms\n",
      "image 24/134 c:\\Users\\GPUserver\\yolov8\\frame\\notebook\\130.png: 192x416 (no detections), 8.4ms\n",
      "image 25/134 c:\\Users\\GPUserver\\yolov8\\frame\\notebook\\132.png: 192x416 (no detections), 0.0ms\n",
      "image 26/134 c:\\Users\\GPUserver\\yolov8\\frame\\notebook\\134.png: 192x416 (no detections), 6.5ms\n",
      "image 27/134 c:\\Users\\GPUserver\\yolov8\\frame\\notebook\\135.png: 192x416 (no detections), 6.9ms\n",
      "image 28/134 c:\\Users\\GPUserver\\yolov8\\frame\\notebook\\136.png: 192x416 (no detections), 7.1ms\n",
      "image 29/134 c:\\Users\\GPUserver\\yolov8\\frame\\notebook\\138.png: 192x416 (no detections), 6.0ms\n",
      "image 30/134 c:\\Users\\GPUserver\\yolov8\\frame\\notebook\\14.png: 192x416 (no detections), 6.9ms\n",
      "image 31/134 c:\\Users\\GPUserver\\yolov8\\frame\\notebook\\140.png: 192x416 (no detections), 10.9ms\n",
      "image 32/134 c:\\Users\\GPUserver\\yolov8\\frame\\notebook\\141.png: 192x416 (no detections), 0.0ms\n",
      "image 33/134 c:\\Users\\GPUserver\\yolov8\\frame\\notebook\\142.png: 192x416 (no detections), 0.0ms\n",
      "image 34/134 c:\\Users\\GPUserver\\yolov8\\frame\\notebook\\144.png: 192x416 (no detections), 0.0ms\n",
      "image 35/134 c:\\Users\\GPUserver\\yolov8\\frame\\notebook\\146.png: 192x416 (no detections), 0.0ms\n",
      "image 36/134 c:\\Users\\GPUserver\\yolov8\\frame\\notebook\\147.png: 192x416 (no detections), 0.0ms\n",
      "image 37/134 c:\\Users\\GPUserver\\yolov8\\frame\\notebook\\148.png: 192x416 (no detections), 0.0ms\n",
      "image 38/134 c:\\Users\\GPUserver\\yolov8\\frame\\notebook\\15.png: 192x416 (no detections), 0.0ms\n",
      "image 39/134 c:\\Users\\GPUserver\\yolov8\\frame\\notebook\\150.png: 192x416 (no detections), 0.0ms\n",
      "image 40/134 c:\\Users\\GPUserver\\yolov8\\frame\\notebook\\152.png: 192x416 (no detections), 0.0ms\n",
      "image 41/134 c:\\Users\\GPUserver\\yolov8\\frame\\notebook\\153.png: 192x416 (no detections), 10.0ms\n",
      "image 42/134 c:\\Users\\GPUserver\\yolov8\\frame\\notebook\\154.png: 192x416 (no detections), 18.4ms\n",
      "image 43/134 c:\\Users\\GPUserver\\yolov8\\frame\\notebook\\156.png: 192x416 (no detections), 13.1ms\n",
      "image 44/134 c:\\Users\\GPUserver\\yolov8\\frame\\notebook\\158.png: 192x416 (no detections), 8.9ms\n",
      "image 45/134 c:\\Users\\GPUserver\\yolov8\\frame\\notebook\\159.png: 192x416 (no detections), 14.8ms\n",
      "image 46/134 c:\\Users\\GPUserver\\yolov8\\frame\\notebook\\16.png: 192x416 (no detections), 0.0ms\n",
      "image 47/134 c:\\Users\\GPUserver\\yolov8\\frame\\notebook\\160.png: 192x416 (no detections), 6.0ms\n",
      "image 48/134 c:\\Users\\GPUserver\\yolov8\\frame\\notebook\\162.png: 192x416 (no detections), 4.6ms\n",
      "image 49/134 c:\\Users\\GPUserver\\yolov8\\frame\\notebook\\164.png: 192x416 (no detections), 13.6ms\n",
      "image 50/134 c:\\Users\\GPUserver\\yolov8\\frame\\notebook\\165.png: 192x416 (no detections), 14.6ms\n",
      "image 51/134 c:\\Users\\GPUserver\\yolov8\\frame\\notebook\\166.png: 192x416 (no detections), 0.0ms\n",
      "image 52/134 c:\\Users\\GPUserver\\yolov8\\frame\\notebook\\168.png: 192x416 (no detections), 0.0ms\n",
      "image 53/134 c:\\Users\\GPUserver\\yolov8\\frame\\notebook\\170.png: 192x416 (no detections), 0.0ms\n",
      "image 54/134 c:\\Users\\GPUserver\\yolov8\\frame\\notebook\\171.png: 192x416 (no detections), 0.0ms\n",
      "image 55/134 c:\\Users\\GPUserver\\yolov8\\frame\\notebook\\172.png: 192x416 (no detections), 0.0ms\n",
      "image 56/134 c:\\Users\\GPUserver\\yolov8\\frame\\notebook\\174.png: 192x416 (no detections), 0.0ms\n",
      "image 57/134 c:\\Users\\GPUserver\\yolov8\\frame\\notebook\\176.png: 192x416 (no detections), 12.0ms\n",
      "image 58/134 c:\\Users\\GPUserver\\yolov8\\frame\\notebook\\177.png: 192x416 (no detections), 16.8ms\n",
      "image 59/134 c:\\Users\\GPUserver\\yolov8\\frame\\notebook\\178.png: 192x416 (no detections), 14.9ms\n",
      "image 60/134 c:\\Users\\GPUserver\\yolov8\\frame\\notebook\\18.png: 192x416 (no detections), 7.1ms\n",
      "image 61/134 c:\\Users\\GPUserver\\yolov8\\frame\\notebook\\180.png: 192x416 (no detections), 14.8ms\n",
      "image 62/134 c:\\Users\\GPUserver\\yolov8\\frame\\notebook\\182.png: 192x416 (no detections), 0.0ms\n",
      "image 63/134 c:\\Users\\GPUserver\\yolov8\\frame\\notebook\\183.png: 192x416 (no detections), 2.2ms\n",
      "image 64/134 c:\\Users\\GPUserver\\yolov8\\frame\\notebook\\184.png: 192x416 (no detections), 0.0ms\n",
      "image 65/134 c:\\Users\\GPUserver\\yolov8\\frame\\notebook\\186.png: 192x416 (no detections), 0.0ms\n",
      "image 66/134 c:\\Users\\GPUserver\\yolov8\\frame\\notebook\\188.png: 192x416 (no detections), 7.0ms\n",
      "image 67/134 c:\\Users\\GPUserver\\yolov8\\frame\\notebook\\189.png: 192x416 (no detections), 5.6ms\n",
      "image 68/134 c:\\Users\\GPUserver\\yolov8\\frame\\notebook\\190.png: 192x416 (no detections), 19.2ms\n",
      "image 69/134 c:\\Users\\GPUserver\\yolov8\\frame\\notebook\\192.png: 192x416 (no detections), 7.1ms\n",
      "image 70/134 c:\\Users\\GPUserver\\yolov8\\frame\\notebook\\194.png: 192x416 (no detections), 2.8ms\n",
      "image 71/134 c:\\Users\\GPUserver\\yolov8\\frame\\notebook\\195.png: 192x416 (no detections), 6.6ms\n",
      "image 72/134 c:\\Users\\GPUserver\\yolov8\\frame\\notebook\\196.png: 192x416 (no detections), 6.8ms\n",
      "image 73/134 c:\\Users\\GPUserver\\yolov8\\frame\\notebook\\198.png: 192x416 (no detections), 0.0ms\n",
      "image 74/134 c:\\Users\\GPUserver\\yolov8\\frame\\notebook\\2.png: 192x416 (no detections), 4.0ms\n",
      "image 75/134 c:\\Users\\GPUserver\\yolov8\\frame\\notebook\\20.png: 192x416 (no detections), 1.6ms\n",
      "image 76/134 c:\\Users\\GPUserver\\yolov8\\frame\\notebook\\200.png: 192x416 (no detections), 5.1ms\n",
      "image 77/134 c:\\Users\\GPUserver\\yolov8\\frame\\notebook\\21.png: 192x416 (no detections), 0.0ms\n",
      "image 78/134 c:\\Users\\GPUserver\\yolov8\\frame\\notebook\\22.png: 192x416 (no detections), 4.9ms\n",
      "image 79/134 c:\\Users\\GPUserver\\yolov8\\frame\\notebook\\24.png: 192x416 (no detections), 12.3ms\n",
      "image 80/134 c:\\Users\\GPUserver\\yolov8\\frame\\notebook\\26.png: 192x416 (no detections), 21.1ms\n",
      "image 81/134 c:\\Users\\GPUserver\\yolov8\\frame\\notebook\\27.png: 192x416 (no detections), 4.8ms\n",
      "image 82/134 c:\\Users\\GPUserver\\yolov8\\frame\\notebook\\28.png: 192x416 (no detections), 4.4ms\n",
      "image 83/134 c:\\Users\\GPUserver\\yolov8\\frame\\notebook\\3.png: 192x416 (no detections), 21.8ms\n",
      "image 84/134 c:\\Users\\GPUserver\\yolov8\\frame\\notebook\\30.png: 192x416 (no detections), 4.9ms\n",
      "image 85/134 c:\\Users\\GPUserver\\yolov8\\frame\\notebook\\32.png: 192x416 (no detections), 3.8ms\n",
      "image 86/134 c:\\Users\\GPUserver\\yolov8\\frame\\notebook\\33.png: 192x416 (no detections), 20.9ms\n",
      "image 87/134 c:\\Users\\GPUserver\\yolov8\\frame\\notebook\\34.png: 192x416 (no detections), 16.2ms\n",
      "image 88/134 c:\\Users\\GPUserver\\yolov8\\frame\\notebook\\36.png: 192x416 (no detections), 4.2ms\n",
      "image 89/134 c:\\Users\\GPUserver\\yolov8\\frame\\notebook\\38.png: 192x416 (no detections), 21.9ms\n",
      "image 90/134 c:\\Users\\GPUserver\\yolov8\\frame\\notebook\\39.png: 192x416 (no detections), 5.5ms\n",
      "image 91/134 c:\\Users\\GPUserver\\yolov8\\frame\\notebook\\4.png: 192x416 (no detections), 5.5ms\n",
      "image 92/134 c:\\Users\\GPUserver\\yolov8\\frame\\notebook\\40.png: 192x416 (no detections), 20.8ms\n",
      "image 93/134 c:\\Users\\GPUserver\\yolov8\\frame\\notebook\\42.png: 192x416 (no detections), 5.2ms\n",
      "image 94/134 c:\\Users\\GPUserver\\yolov8\\frame\\notebook\\44.png: 192x416 (no detections), 20.1ms\n",
      "image 95/134 c:\\Users\\GPUserver\\yolov8\\frame\\notebook\\45.png: 192x416 (no detections), 15.9ms\n",
      "image 96/134 c:\\Users\\GPUserver\\yolov8\\frame\\notebook\\46.png: 192x416 (no detections), 23.1ms\n",
      "image 97/134 c:\\Users\\GPUserver\\yolov8\\frame\\notebook\\48.png: 192x416 (no detections), 2.5ms\n",
      "image 98/134 c:\\Users\\GPUserver\\yolov8\\frame\\notebook\\50.png: 192x416 (no detections), 6.3ms\n",
      "image 99/134 c:\\Users\\GPUserver\\yolov8\\frame\\notebook\\51.png: 192x416 (no detections), 4.2ms\n",
      "image 100/134 c:\\Users\\GPUserver\\yolov8\\frame\\notebook\\52.png: 192x416 (no detections), 6.6ms\n",
      "image 101/134 c:\\Users\\GPUserver\\yolov8\\frame\\notebook\\54.png: 192x416 (no detections), 4.2ms\n",
      "image 102/134 c:\\Users\\GPUserver\\yolov8\\frame\\notebook\\56.png: 192x416 (no detections), 1.0ms\n",
      "image 103/134 c:\\Users\\GPUserver\\yolov8\\frame\\notebook\\57.png: 192x416 (no detections), 7.8ms\n",
      "image 104/134 c:\\Users\\GPUserver\\yolov8\\frame\\notebook\\58.png: 192x416 (no detections), 0.0ms\n",
      "image 105/134 c:\\Users\\GPUserver\\yolov8\\frame\\notebook\\6.png: 192x416 (no detections), 4.0ms\n",
      "image 106/134 c:\\Users\\GPUserver\\yolov8\\frame\\notebook\\60.png: 192x416 (no detections), 1.0ms\n",
      "image 107/134 c:\\Users\\GPUserver\\yolov8\\frame\\notebook\\62.png: 192x416 (no detections), 3.0ms\n",
      "image 108/134 c:\\Users\\GPUserver\\yolov8\\frame\\notebook\\63.png: 192x416 (no detections), 0.0ms\n",
      "image 109/134 c:\\Users\\GPUserver\\yolov8\\frame\\notebook\\64.png: 192x416 (no detections), 3.2ms\n",
      "image 110/134 c:\\Users\\GPUserver\\yolov8\\frame\\notebook\\66.png: 192x416 (no detections), 1.5ms\n",
      "image 111/134 c:\\Users\\GPUserver\\yolov8\\frame\\notebook\\68.png: 192x416 (no detections), 1.0ms\n",
      "image 112/134 c:\\Users\\GPUserver\\yolov8\\frame\\notebook\\69.png: 192x416 (no detections), 3.3ms\n",
      "image 113/134 c:\\Users\\GPUserver\\yolov8\\frame\\notebook\\70.png: 192x416 (no detections), 0.0ms\n",
      "image 114/134 c:\\Users\\GPUserver\\yolov8\\frame\\notebook\\72.png: 192x416 (no detections), 0.0ms\n",
      "image 115/134 c:\\Users\\GPUserver\\yolov8\\frame\\notebook\\74.png: 192x416 (no detections), 0.0ms\n",
      "image 116/134 c:\\Users\\GPUserver\\yolov8\\frame\\notebook\\75.png: 192x416 (no detections), 13.8ms\n",
      "image 117/134 c:\\Users\\GPUserver\\yolov8\\frame\\notebook\\76.png: 192x416 (no detections), 10.2ms\n",
      "image 118/134 c:\\Users\\GPUserver\\yolov8\\frame\\notebook\\78.png: 192x416 (no detections), 15.6ms\n",
      "image 119/134 c:\\Users\\GPUserver\\yolov8\\frame\\notebook\\8.png: 192x416 (no detections), 1.5ms\n",
      "image 120/134 c:\\Users\\GPUserver\\yolov8\\frame\\notebook\\80.png: 192x416 (no detections), 0.0ms\n",
      "image 121/134 c:\\Users\\GPUserver\\yolov8\\frame\\notebook\\81.png: 192x416 (no detections), 0.0ms\n",
      "image 122/134 c:\\Users\\GPUserver\\yolov8\\frame\\notebook\\82.png: 192x416 (no detections), 1.6ms\n",
      "image 123/134 c:\\Users\\GPUserver\\yolov8\\frame\\notebook\\84.png: 192x416 (no detections), 0.0ms\n",
      "image 124/134 c:\\Users\\GPUserver\\yolov8\\frame\\notebook\\86.png: 192x416 (no detections), 4.1ms\n",
      "image 125/134 c:\\Users\\GPUserver\\yolov8\\frame\\notebook\\87.png: 192x416 (no detections), 7.4ms\n",
      "image 126/134 c:\\Users\\GPUserver\\yolov8\\frame\\notebook\\88.png: 192x416 (no detections), 4.2ms\n",
      "image 127/134 c:\\Users\\GPUserver\\yolov8\\frame\\notebook\\9.png: 192x416 (no detections), 1.0ms\n",
      "image 128/134 c:\\Users\\GPUserver\\yolov8\\frame\\notebook\\90.png: 192x416 (no detections), 2.6ms\n",
      "image 129/134 c:\\Users\\GPUserver\\yolov8\\frame\\notebook\\92.png: 192x416 (no detections), 0.0ms\n",
      "image 130/134 c:\\Users\\GPUserver\\yolov8\\frame\\notebook\\93.png: 192x416 (no detections), 0.0ms\n",
      "image 131/134 c:\\Users\\GPUserver\\yolov8\\frame\\notebook\\94.png: 192x416 (no detections), 5.6ms\n",
      "image 132/134 c:\\Users\\GPUserver\\yolov8\\frame\\notebook\\96.png: 192x416 (no detections), 0.0ms\n",
      "image 133/134 c:\\Users\\GPUserver\\yolov8\\frame\\notebook\\98.png: 192x416 (no detections), 0.0ms\n",
      "image 134/134 c:\\Users\\GPUserver\\yolov8\\frame\\notebook\\99.png: 192x416 (no detections), 11.7ms\n",
      "Speed: 2.2ms preprocess, 6.7ms inference, 0.6ms postprocess per image at shape (1, 3, 192, 416)\n"
     ]
    }
   ],
   "source": [
    "from ultralytics import YOLO\n",
    "import cv2\n",
    "model = YOLO(\"./runs/detect/train7/weights/best.pt\") # 원하는 크기 모델 입력(n ~ x)\n",
    "\n",
    "# 모델을 사용해 이미지 예측\n",
    "result = model.predict(source = \"./frame/notebook/*.png\", conf=0.1)"
   ]
  },
  {
   "cell_type": "code",
   "execution_count": 2,
   "id": "189beaee",
   "metadata": {},
   "outputs": [
    {
     "ename": "IndexError",
     "evalue": "index 0 is out of bounds for dimension 0 with size 0",
     "output_type": "error",
     "traceback": [
      "\u001b[1;31m---------------------------------------------------------------------------\u001b[0m",
      "\u001b[1;31mIndexError\u001b[0m                                Traceback (most recent call last)",
      "Cell \u001b[1;32mIn[2], line 1\u001b[0m\n\u001b[1;32m----> 1\u001b[0m \u001b[38;5;28mprint\u001b[39m(\u001b[38;5;28mlen\u001b[39m(\u001b[43mresult\u001b[49m\u001b[43m[\u001b[49m\u001b[38;5;241;43m0\u001b[39;49m\u001b[43m]\u001b[49m\u001b[38;5;241;43m.\u001b[39;49m\u001b[43mboxes\u001b[49m\u001b[43m[\u001b[49m\u001b[38;5;241;43m0\u001b[39;49m\u001b[43m]\u001b[49m))\n",
      "File \u001b[1;32mc:\\Users\\GPUserver\\anaconda3\\envs\\yolov8\\lib\\site-packages\\ultralytics\\engine\\results.py:76\u001b[0m, in \u001b[0;36mBaseTensor.__getitem__\u001b[1;34m(self, idx)\u001b[0m\n\u001b[0;32m     74\u001b[0m \u001b[38;5;28;01mdef\u001b[39;00m \u001b[38;5;21m__getitem__\u001b[39m(\u001b[38;5;28mself\u001b[39m, idx):\n\u001b[0;32m     75\u001b[0m \u001b[38;5;250m    \u001b[39m\u001b[38;5;124;03m\"\"\"Return a new BaseTensor instance containing the specified indexed elements of the data tensor.\"\"\"\u001b[39;00m\n\u001b[1;32m---> 76\u001b[0m     \u001b[38;5;28;01mreturn\u001b[39;00m \u001b[38;5;28mself\u001b[39m\u001b[38;5;241m.\u001b[39m\u001b[38;5;18m__class__\u001b[39m(\u001b[38;5;28;43mself\u001b[39;49m\u001b[38;5;241;43m.\u001b[39;49m\u001b[43mdata\u001b[49m\u001b[43m[\u001b[49m\u001b[43midx\u001b[49m\u001b[43m]\u001b[49m, \u001b[38;5;28mself\u001b[39m\u001b[38;5;241m.\u001b[39morig_shape)\n",
      "\u001b[1;31mIndexError\u001b[0m: index 0 is out of bounds for dimension 0 with size 0"
     ]
    }
   ],
   "source": [
    "print(len(result[0].boxes[0]))\n"
   ]
  },
  {
   "cell_type": "code",
   "execution_count": null,
   "id": "df9ed619",
   "metadata": {},
   "outputs": [],
   "source": [
    "plots = result[0].plot()\n",
    "cv2.imshow(\"plot\", plots)\n",
    "cv2.waitKey(0)\n",
    "cv2.destroyAllWindows()"
   ]
  },
  {
   "cell_type": "code",
   "execution_count": 29,
   "id": "6d8d2163",
   "metadata": {},
   "outputs": [
    {
     "data": {
      "text/plain": [
       "{0: 'person',\n",
       " 1: 'bicycle',\n",
       " 2: 'car',\n",
       " 3: 'motorcycle',\n",
       " 4: 'airplane',\n",
       " 5: 'bus',\n",
       " 6: 'train',\n",
       " 7: 'truck',\n",
       " 8: 'boat',\n",
       " 9: 'traffic light',\n",
       " 10: 'fire hydrant',\n",
       " 11: 'stop sign',\n",
       " 12: 'parking meter',\n",
       " 13: 'bench',\n",
       " 14: 'bird',\n",
       " 15: 'cat',\n",
       " 16: 'dog',\n",
       " 17: 'horse',\n",
       " 18: 'sheep',\n",
       " 19: 'cow',\n",
       " 20: 'elephant',\n",
       " 21: 'bear',\n",
       " 22: 'zebra',\n",
       " 23: 'giraffe',\n",
       " 24: 'backpack',\n",
       " 25: 'umbrella',\n",
       " 26: 'handbag',\n",
       " 27: 'tie',\n",
       " 28: 'suitcase',\n",
       " 29: 'frisbee',\n",
       " 30: 'skis',\n",
       " 31: 'snowboard',\n",
       " 32: 'sports ball',\n",
       " 33: 'kite',\n",
       " 34: 'baseball bat',\n",
       " 35: 'baseball glove',\n",
       " 36: 'skateboard',\n",
       " 37: 'surfboard',\n",
       " 38: 'tennis racket',\n",
       " 39: 'bottle',\n",
       " 40: 'wine glass',\n",
       " 41: 'cup',\n",
       " 42: 'fork',\n",
       " 43: 'knife',\n",
       " 44: 'spoon',\n",
       " 45: 'bowl',\n",
       " 46: 'banana',\n",
       " 47: 'apple',\n",
       " 48: 'sandwich',\n",
       " 49: 'orange',\n",
       " 50: 'broccoli',\n",
       " 51: 'carrot',\n",
       " 52: 'hot dog',\n",
       " 53: 'pizza',\n",
       " 54: 'donut',\n",
       " 55: 'cake',\n",
       " 56: 'chair',\n",
       " 57: 'couch',\n",
       " 58: 'potted plant',\n",
       " 59: 'bed',\n",
       " 60: 'dining table',\n",
       " 61: 'toilet',\n",
       " 62: 'tv',\n",
       " 63: 'laptop',\n",
       " 64: 'mouse',\n",
       " 65: 'remote',\n",
       " 66: 'keyboard',\n",
       " 67: 'cell phone',\n",
       " 68: 'microwave',\n",
       " 69: 'oven',\n",
       " 70: 'toaster',\n",
       " 71: 'sink',\n",
       " 72: 'refrigerator',\n",
       " 73: 'book',\n",
       " 74: 'clock',\n",
       " 75: 'vase',\n",
       " 76: 'scissors',\n",
       " 77: 'teddy bear',\n",
       " 78: 'hair drier',\n",
       " 79: 'toothbrush'}"
      ]
     },
     "execution_count": 29,
     "metadata": {},
     "output_type": "execute_result"
    }
   ],
   "source": [
    "result[0].names"
   ]
  },
  {
   "cell_type": "code",
   "execution_count": 8,
   "id": "e661ed67",
   "metadata": {},
   "outputs": [
    {
     "ename": "IndexError",
     "evalue": "index 1 is out of bounds for dimension 0 with size 0",
     "output_type": "error",
     "traceback": [
      "\u001b[1;31m---------------------------------------------------------------------------\u001b[0m",
      "\u001b[1;31mIndexError\u001b[0m                                Traceback (most recent call last)",
      "Cell \u001b[1;32mIn[8], line 5\u001b[0m\n\u001b[0;32m      2\u001b[0m \u001b[38;5;28;01mimport\u001b[39;00m \u001b[38;5;21;01mmatplotlib\u001b[39;00m\u001b[38;5;21;01m.\u001b[39;00m\u001b[38;5;21;01mpyplot\u001b[39;00m \u001b[38;5;28;01mas\u001b[39;00m \u001b[38;5;21;01mplt\u001b[39;00m\n\u001b[0;32m      4\u001b[0m \u001b[38;5;66;03m# 첫 번째 결과 가져오기\u001b[39;00m\n\u001b[1;32m----> 5\u001b[0m result\u001b[38;5;241m=\u001b[39m \u001b[43mresult\u001b[49m\u001b[43m[\u001b[49m\u001b[38;5;241;43m1\u001b[39;49m\u001b[43m]\u001b[49m\n\u001b[0;32m      6\u001b[0m \u001b[38;5;66;03m# 원본 이미지 가져오기\u001b[39;00m\n\u001b[0;32m      7\u001b[0m original_img \u001b[38;5;241m=\u001b[39m result\u001b[38;5;241m.\u001b[39morig_img\n",
      "File \u001b[1;32mc:\\Users\\GPUserver\\anaconda3\\envs\\yolov8\\lib\\site-packages\\ultralytics\\engine\\results.py:155\u001b[0m, in \u001b[0;36mResults.__getitem__\u001b[1;34m(self, idx)\u001b[0m\n\u001b[0;32m    153\u001b[0m \u001b[38;5;28;01mdef\u001b[39;00m \u001b[38;5;21m__getitem__\u001b[39m(\u001b[38;5;28mself\u001b[39m, idx):\n\u001b[0;32m    154\u001b[0m \u001b[38;5;250m    \u001b[39m\u001b[38;5;124;03m\"\"\"Return a Results object for a specific index of inference results.\"\"\"\u001b[39;00m\n\u001b[1;32m--> 155\u001b[0m     \u001b[38;5;28;01mreturn\u001b[39;00m \u001b[38;5;28;43mself\u001b[39;49m\u001b[38;5;241;43m.\u001b[39;49m\u001b[43m_apply\u001b[49m\u001b[43m(\u001b[49m\u001b[38;5;124;43m\"\u001b[39;49m\u001b[38;5;124;43m__getitem__\u001b[39;49m\u001b[38;5;124;43m\"\u001b[39;49m\u001b[43m,\u001b[49m\u001b[43m \u001b[49m\u001b[43midx\u001b[49m\u001b[43m)\u001b[49m\n",
      "File \u001b[1;32mc:\\Users\\GPUserver\\anaconda3\\envs\\yolov8\\lib\\site-packages\\ultralytics\\engine\\results.py:200\u001b[0m, in \u001b[0;36mResults._apply\u001b[1;34m(self, fn, *args, **kwargs)\u001b[0m\n\u001b[0;32m    198\u001b[0m     v \u001b[38;5;241m=\u001b[39m \u001b[38;5;28mgetattr\u001b[39m(\u001b[38;5;28mself\u001b[39m, k)\n\u001b[0;32m    199\u001b[0m     \u001b[38;5;28;01mif\u001b[39;00m v \u001b[38;5;129;01mis\u001b[39;00m \u001b[38;5;129;01mnot\u001b[39;00m \u001b[38;5;28;01mNone\u001b[39;00m:\n\u001b[1;32m--> 200\u001b[0m         \u001b[38;5;28msetattr\u001b[39m(r, k, \u001b[38;5;28;43mgetattr\u001b[39;49m\u001b[43m(\u001b[49m\u001b[43mv\u001b[49m\u001b[43m,\u001b[49m\u001b[43m \u001b[49m\u001b[43mfn\u001b[49m\u001b[43m)\u001b[49m\u001b[43m(\u001b[49m\u001b[38;5;241;43m*\u001b[39;49m\u001b[43margs\u001b[49m\u001b[43m,\u001b[49m\u001b[43m \u001b[49m\u001b[38;5;241;43m*\u001b[39;49m\u001b[38;5;241;43m*\u001b[39;49m\u001b[43mkwargs\u001b[49m\u001b[43m)\u001b[49m)\n\u001b[0;32m    201\u001b[0m \u001b[38;5;28;01mreturn\u001b[39;00m r\n",
      "File \u001b[1;32mc:\\Users\\GPUserver\\anaconda3\\envs\\yolov8\\lib\\site-packages\\ultralytics\\engine\\results.py:76\u001b[0m, in \u001b[0;36mBaseTensor.__getitem__\u001b[1;34m(self, idx)\u001b[0m\n\u001b[0;32m     74\u001b[0m \u001b[38;5;28;01mdef\u001b[39;00m \u001b[38;5;21m__getitem__\u001b[39m(\u001b[38;5;28mself\u001b[39m, idx):\n\u001b[0;32m     75\u001b[0m \u001b[38;5;250m    \u001b[39m\u001b[38;5;124;03m\"\"\"Return a new BaseTensor instance containing the specified indexed elements of the data tensor.\"\"\"\u001b[39;00m\n\u001b[1;32m---> 76\u001b[0m     \u001b[38;5;28;01mreturn\u001b[39;00m \u001b[38;5;28mself\u001b[39m\u001b[38;5;241m.\u001b[39m\u001b[38;5;18m__class__\u001b[39m(\u001b[38;5;28;43mself\u001b[39;49m\u001b[38;5;241;43m.\u001b[39;49m\u001b[43mdata\u001b[49m\u001b[43m[\u001b[49m\u001b[43midx\u001b[49m\u001b[43m]\u001b[49m, \u001b[38;5;28mself\u001b[39m\u001b[38;5;241m.\u001b[39morig_shape)\n",
      "\u001b[1;31mIndexError\u001b[0m: index 1 is out of bounds for dimension 0 with size 0"
     ]
    }
   ],
   "source": [
    "# 결과를 이미지에 표시하기\n",
    "import matplotlib.pyplot as plt\n",
    "\n",
    "# 첫 번째 결과 가져오기\n",
    "result= result[1]\n",
    "# 원본 이미지 가져오기\n",
    "original_img = result.orig_img\n",
    "\n",
    "\n",
    "\n",
    "# 탐지된 객체의 경계 상자 그리기\n",
    "for box in result.boxes:\n",
    "    x1, y1, x2, y2 = box.xyxy[0]  # 경계 상자 좌표\n",
    "    conf = box.conf[0]  # 신뢰도\n",
    "    cls = box.cls[0]  # 클래스 ID\n",
    "    label = result.names[int(cls)]  # 클래스 이름\n",
    "\n",
    "    # 경계 상자 그리기\n",
    "    cv2.rectangle(original_img, (int(x1), int(y1)), (int(x2), int(y2)), (255, 0, 0), 2)\n",
    "    cv2.putText(original_img, f'{label} {conf:.2f}', (int(x1), int(y1) - 10), cv2.FONT_HERSHEY_SIMPLEX, 0.9, (255, 0, 0), 2)\n",
    "\n",
    "# 결과 이미지 표시\n",
    "plt.imshow(cv2.cvtColor(original_img, cv2.COLOR_BGR2RGB))\n",
    "plt.show()"
   ]
  },
  {
   "cell_type": "code",
   "execution_count": 17,
   "id": "4379e023",
   "metadata": {},
   "outputs": [
    {
     "name": "stdout",
     "output_type": "stream",
     "text": [
      "Labels: {0: 'person', 1: 'bicycle', 2: 'car', 3: 'motorcycle', 4: 'airplane', 5: 'bus', 6: 'train', 7: 'truck', 8: 'boat', 9: 'traffic light', 10: 'fire hydrant', 11: 'stop sign', 12: 'parking meter', 13: 'bench', 14: 'bird', 15: 'cat', 16: 'dog', 17: 'horse', 18: 'sheep', 19: 'cow', 20: 'elephant', 21: 'bear', 22: 'zebra', 23: 'giraffe', 24: 'backpack', 25: 'umbrella', 26: 'handbag', 27: 'tie', 28: 'suitcase', 29: 'frisbee', 30: 'skis', 31: 'snowboard', 32: 'sports ball', 33: 'kite', 34: 'baseball bat', 35: 'baseball glove', 36: 'skateboard', 37: 'surfboard', 38: 'tennis racket', 39: 'bottle', 40: 'wine glass', 41: 'cup', 42: 'fork', 43: 'knife', 44: 'spoon', 45: 'bowl', 46: 'banana', 47: 'apple', 48: 'sandwich', 49: 'orange', 50: 'broccoli', 51: 'carrot', 52: 'hot dog', 53: 'pizza', 54: 'donut', 55: 'cake', 56: 'chair', 57: 'couch', 58: 'potted plant', 59: 'bed', 60: 'dining table', 61: 'toilet', 62: 'tv', 63: 'laptop', 64: 'mouse', 65: 'remote', 66: 'keyboard', 67: 'cell phone', 68: 'microwave', 69: 'oven', 70: 'toaster', 71: 'sink', 72: 'refrigerator', 73: 'book', 74: 'clock', 75: 'vase', 76: 'scissors', 77: 'teddy bear', 78: 'hair drier', 79: 'toothbrush'}\n"
     ]
    }
   ],
   "source": [
    "# 속성 출력\n",
    "print(\"Labels:\", result.names)\n"
   ]
  },
  {
   "cell_type": "code",
   "execution_count": 19,
   "id": "1abf98b5",
   "metadata": {},
   "outputs": [
    {
     "name": "stdout",
     "output_type": "stream",
     "text": [
      "Boxes: ultralytics.engine.results.Boxes object with attributes:\n",
      "\n",
      "cls: tensor([ 0.,  0., 27.], device='cuda:0')\n",
      "conf: tensor([0.8893, 0.8845, 0.7178], device='cuda:0')\n",
      "data: tensor([[7.4732e+02, 4.1474e+01, 1.1404e+03, 7.1292e+02, 8.8927e-01, 0.0000e+00],\n",
      "        [1.4488e+02, 2.0004e+02, 1.1072e+03, 7.1270e+02, 8.8450e-01, 0.0000e+00],\n",
      "        [4.3738e+02, 4.3448e+02, 5.2996e+02, 7.1704e+02, 7.1779e-01, 2.7000e+01]], device='cuda:0')\n",
      "id: None\n",
      "is_track: False\n",
      "orig_shape: (720, 1280)\n",
      "shape: torch.Size([3, 6])\n",
      "xywh: tensor([[943.8583, 377.1958, 393.0803, 671.4443],\n",
      "        [626.0539, 456.3676, 962.3456, 512.6605],\n",
      "        [483.6690, 575.7603,  92.5787, 282.5648]], device='cuda:0')\n",
      "xywhn: tensor([[0.7374, 0.5239, 0.3071, 0.9326],\n",
      "        [0.4891, 0.6338, 0.7518, 0.7120],\n",
      "        [0.3779, 0.7997, 0.0723, 0.3925]], device='cuda:0')\n",
      "xyxy: tensor([[ 747.3181,   41.4736, 1140.3984,  712.9180],\n",
      "        [ 144.8811,  200.0374, 1107.2267,  712.6978],\n",
      "        [ 437.3796,  434.4778,  529.9583,  717.0427]], device='cuda:0')\n",
      "xyxyn: tensor([[0.5838, 0.0576, 0.8909, 0.9902],\n",
      "        [0.1132, 0.2778, 0.8650, 0.9899],\n",
      "        [0.3417, 0.6034, 0.4140, 0.9959]], device='cuda:0')\n"
     ]
    }
   ],
   "source": [
    "print(\"Boxes:\", result.boxes)\n"
   ]
  },
  {
   "cell_type": "code",
   "execution_count": 20,
   "id": "b0ef9360",
   "metadata": {},
   "outputs": [
    {
     "name": "stdout",
     "output_type": "stream",
     "text": [
      "Masks: None\n"
     ]
    }
   ],
   "source": [
    "print(\"Masks:\", result.masks)\n"
   ]
  },
  {
   "cell_type": "code",
   "execution_count": 21,
   "id": "82b8ecd1",
   "metadata": {},
   "outputs": [
    {
     "name": "stdout",
     "output_type": "stream",
     "text": [
      "Keypoints: None\n"
     ]
    }
   ],
   "source": [
    "print(\"Keypoints:\", result.keypoints)\n"
   ]
  },
  {
   "cell_type": "code",
   "execution_count": 22,
   "id": "7bc699f8",
   "metadata": {},
   "outputs": [
    {
     "name": "stdout",
     "output_type": "stream",
     "text": [
      "Original Image Shape: (720, 1280, 3)\n"
     ]
    }
   ],
   "source": [
    "print(\"Original Image Shape:\", result.orig_img.shape)"
   ]
  },
  {
   "cell_type": "code",
   "execution_count": null,
   "id": "561b9c18",
   "metadata": {},
   "outputs": [],
   "source": [
    "\n",
    "\n"
   ]
  },
  {
   "cell_type": "code",
   "execution_count": null,
   "id": "ae01dc69",
   "metadata": {},
   "outputs": [],
   "source": []
  }
 ],
 "metadata": {
  "kernelspec": {
   "display_name": "Python 3 (ipykernel)",
   "language": "python",
   "name": "python3"
  },
  "language_info": {
   "codemirror_mode": {
    "name": "ipython",
    "version": 3
   },
   "file_extension": ".py",
   "mimetype": "text/x-python",
   "name": "python",
   "nbconvert_exporter": "python",
   "pygments_lexer": "ipython3",
   "version": "3.8.19"
  }
 },
 "nbformat": 4,
 "nbformat_minor": 5
}
