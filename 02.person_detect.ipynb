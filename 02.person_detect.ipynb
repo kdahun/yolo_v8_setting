{
 "cells": [
  {
   "cell_type": "code",
   "execution_count": 3,
   "metadata": {},
   "outputs": [
    {
     "name": "stdout",
     "output_type": "stream",
     "text": [
      "\n",
      "image 1/134 c:\\Users\\GPUserver\\yolov8\\frame\\notebook\\0.png: 192x416 (no detections), 0.0ms\n",
      "image 2/134 c:\\Users\\GPUserver\\yolov8\\frame\\notebook\\10.png: 192x416 (no detections), 0.0ms\n",
      "image 3/134 c:\\Users\\GPUserver\\yolov8\\frame\\notebook\\100.png: 192x416 (no detections), 3.9ms\n",
      "image 4/134 c:\\Users\\GPUserver\\yolov8\\frame\\notebook\\102.png: 192x416 (no detections), 0.0ms\n",
      "image 5/134 c:\\Users\\GPUserver\\yolov8\\frame\\notebook\\104.png: 192x416 (no detections), 0.0ms\n",
      "image 6/134 c:\\Users\\GPUserver\\yolov8\\frame\\notebook\\105.png: 192x416 (no detections), 13.0ms\n",
      "image 7/134 c:\\Users\\GPUserver\\yolov8\\frame\\notebook\\106.png: 192x416 (no detections), 10.9ms\n",
      "image 8/134 c:\\Users\\GPUserver\\yolov8\\frame\\notebook\\108.png: 192x416 (no detections), 0.0ms\n",
      "image 9/134 c:\\Users\\GPUserver\\yolov8\\frame\\notebook\\110.png: 192x416 (no detections), 15.1ms\n",
      "image 10/134 c:\\Users\\GPUserver\\yolov8\\frame\\notebook\\111.png: 192x416 (no detections), 3.5ms\n",
      "image 11/134 c:\\Users\\GPUserver\\yolov8\\frame\\notebook\\112.png: 192x416 (no detections), 16.1ms\n",
      "image 12/134 c:\\Users\\GPUserver\\yolov8\\frame\\notebook\\114.png: 192x416 (no detections), 9.4ms\n",
      "image 13/134 c:\\Users\\GPUserver\\yolov8\\frame\\notebook\\116.png: 192x416 (no detections), 3.4ms\n",
      "image 14/134 c:\\Users\\GPUserver\\yolov8\\frame\\notebook\\117.png: 192x416 (no detections), 0.0ms\n",
      "image 15/134 c:\\Users\\GPUserver\\yolov8\\frame\\notebook\\118.png: 192x416 (no detections), 15.1ms\n",
      "image 16/134 c:\\Users\\GPUserver\\yolov8\\frame\\notebook\\12.png: 192x416 (no detections), 16.9ms\n",
      "image 17/134 c:\\Users\\GPUserver\\yolov8\\frame\\notebook\\120.png: 192x416 (no detections), 0.0ms\n",
      "image 18/134 c:\\Users\\GPUserver\\yolov8\\frame\\notebook\\122.png: 192x416 (no detections), 5.1ms\n",
      "image 19/134 c:\\Users\\GPUserver\\yolov8\\frame\\notebook\\123.png: 192x416 (no detections), 3.1ms\n",
      "image 20/134 c:\\Users\\GPUserver\\yolov8\\frame\\notebook\\124.png: 192x416 (no detections), 0.0ms\n",
      "image 21/134 c:\\Users\\GPUserver\\yolov8\\frame\\notebook\\126.png: 192x416 (no detections), 15.0ms\n",
      "image 22/134 c:\\Users\\GPUserver\\yolov8\\frame\\notebook\\128.png: 192x416 (no detections), 16.7ms\n",
      "image 23/134 c:\\Users\\GPUserver\\yolov8\\frame\\notebook\\129.png: 192x416 (no detections), 24.2ms\n",
      "image 24/134 c:\\Users\\GPUserver\\yolov8\\frame\\notebook\\130.png: 192x416 (no detections), 0.0ms\n",
      "image 25/134 c:\\Users\\GPUserver\\yolov8\\frame\\notebook\\132.png: 192x416 (no detections), 0.0ms\n",
      "image 26/134 c:\\Users\\GPUserver\\yolov8\\frame\\notebook\\134.png: 192x416 (no detections), 0.0ms\n",
      "image 27/134 c:\\Users\\GPUserver\\yolov8\\frame\\notebook\\135.png: 192x416 (no detections), 0.1ms\n",
      "image 28/134 c:\\Users\\GPUserver\\yolov8\\frame\\notebook\\136.png: 192x416 (no detections), 13.7ms\n",
      "image 29/134 c:\\Users\\GPUserver\\yolov8\\frame\\notebook\\138.png: 192x416 (no detections), 16.5ms\n",
      "image 30/134 c:\\Users\\GPUserver\\yolov8\\frame\\notebook\\14.png: 192x416 (no detections), 0.0ms\n",
      "image 31/134 c:\\Users\\GPUserver\\yolov8\\frame\\notebook\\140.png: 192x416 (no detections), 0.0ms\n",
      "image 32/134 c:\\Users\\GPUserver\\yolov8\\frame\\notebook\\141.png: 192x416 (no detections), 16.3ms\n",
      "image 33/134 c:\\Users\\GPUserver\\yolov8\\frame\\notebook\\142.png: 192x416 (no detections), 7.7ms\n",
      "image 34/134 c:\\Users\\GPUserver\\yolov8\\frame\\notebook\\144.png: 192x416 (no detections), 0.0ms\n",
      "image 35/134 c:\\Users\\GPUserver\\yolov8\\frame\\notebook\\146.png: 192x416 (no detections), 0.0ms\n",
      "image 36/134 c:\\Users\\GPUserver\\yolov8\\frame\\notebook\\147.png: 192x416 (no detections), 16.1ms\n",
      "image 37/134 c:\\Users\\GPUserver\\yolov8\\frame\\notebook\\148.png: 192x416 (no detections), 19.0ms\n",
      "image 38/134 c:\\Users\\GPUserver\\yolov8\\frame\\notebook\\15.png: 192x416 (no detections), 3.9ms\n",
      "image 39/134 c:\\Users\\GPUserver\\yolov8\\frame\\notebook\\150.png: 192x416 (no detections), 0.0ms\n",
      "image 40/134 c:\\Users\\GPUserver\\yolov8\\frame\\notebook\\152.png: 192x416 (no detections), 0.0ms\n",
      "image 41/134 c:\\Users\\GPUserver\\yolov8\\frame\\notebook\\153.png: 192x416 (no detections), 0.0ms\n",
      "image 42/134 c:\\Users\\GPUserver\\yolov8\\frame\\notebook\\154.png: 192x416 (no detections), 2.5ms\n",
      "image 43/134 c:\\Users\\GPUserver\\yolov8\\frame\\notebook\\156.png: 192x416 (no detections), 0.0ms\n",
      "image 44/134 c:\\Users\\GPUserver\\yolov8\\frame\\notebook\\158.png: 192x416 (no detections), 0.0ms\n",
      "image 45/134 c:\\Users\\GPUserver\\yolov8\\frame\\notebook\\159.png: 192x416 (no detections), 16.7ms\n",
      "image 46/134 c:\\Users\\GPUserver\\yolov8\\frame\\notebook\\16.png: 192x416 (no detections), 25.4ms\n",
      "image 47/134 c:\\Users\\GPUserver\\yolov8\\frame\\notebook\\160.png: 192x416 (no detections), 0.0ms\n",
      "image 48/134 c:\\Users\\GPUserver\\yolov8\\frame\\notebook\\162.png: 192x416 (no detections), 3.7ms\n",
      "image 49/134 c:\\Users\\GPUserver\\yolov8\\frame\\notebook\\164.png: 192x416 (no detections), 0.0ms\n",
      "image 50/134 c:\\Users\\GPUserver\\yolov8\\frame\\notebook\\165.png: 192x416 (no detections), 0.0ms\n",
      "image 51/134 c:\\Users\\GPUserver\\yolov8\\frame\\notebook\\166.png: 192x416 (no detections), 0.0ms\n",
      "image 52/134 c:\\Users\\GPUserver\\yolov8\\frame\\notebook\\168.png: 192x416 (no detections), 0.0ms\n",
      "image 53/134 c:\\Users\\GPUserver\\yolov8\\frame\\notebook\\170.png: 192x416 (no detections), 0.0ms\n",
      "image 54/134 c:\\Users\\GPUserver\\yolov8\\frame\\notebook\\171.png: 192x416 (no detections), 0.0ms\n",
      "image 55/134 c:\\Users\\GPUserver\\yolov8\\frame\\notebook\\172.png: 192x416 (no detections), 0.0ms\n",
      "image 56/134 c:\\Users\\GPUserver\\yolov8\\frame\\notebook\\174.png: 192x416 (no detections), 0.0ms\n",
      "image 57/134 c:\\Users\\GPUserver\\yolov8\\frame\\notebook\\176.png: 192x416 (no detections), 11.5ms\n",
      "image 58/134 c:\\Users\\GPUserver\\yolov8\\frame\\notebook\\177.png: 192x416 (no detections), 0.0ms\n",
      "image 59/134 c:\\Users\\GPUserver\\yolov8\\frame\\notebook\\178.png: 192x416 (no detections), 18.6ms\n",
      "image 60/134 c:\\Users\\GPUserver\\yolov8\\frame\\notebook\\18.png: 192x416 (no detections), 16.1ms\n",
      "image 61/134 c:\\Users\\GPUserver\\yolov8\\frame\\notebook\\180.png: 192x416 (no detections), 0.0ms\n",
      "image 62/134 c:\\Users\\GPUserver\\yolov8\\frame\\notebook\\182.png: 192x416 (no detections), 15.5ms\n",
      "image 63/134 c:\\Users\\GPUserver\\yolov8\\frame\\notebook\\183.png: 192x416 (no detections), 18.9ms\n",
      "image 64/134 c:\\Users\\GPUserver\\yolov8\\frame\\notebook\\184.png: 192x416 (no detections), 25.3ms\n",
      "image 65/134 c:\\Users\\GPUserver\\yolov8\\frame\\notebook\\186.png: 192x416 (no detections), 1.0ms\n",
      "image 66/134 c:\\Users\\GPUserver\\yolov8\\frame\\notebook\\188.png: 192x416 (no detections), 0.0ms\n",
      "image 67/134 c:\\Users\\GPUserver\\yolov8\\frame\\notebook\\189.png: 192x416 (no detections), 0.0ms\n",
      "image 68/134 c:\\Users\\GPUserver\\yolov8\\frame\\notebook\\190.png: 192x416 (no detections), 0.9ms\n",
      "image 69/134 c:\\Users\\GPUserver\\yolov8\\frame\\notebook\\192.png: 192x416 (no detections), 19.1ms\n",
      "image 70/134 c:\\Users\\GPUserver\\yolov8\\frame\\notebook\\194.png: 192x416 (no detections), 11.2ms\n",
      "image 71/134 c:\\Users\\GPUserver\\yolov8\\frame\\notebook\\195.png: 192x416 (no detections), 0.0ms\n",
      "image 72/134 c:\\Users\\GPUserver\\yolov8\\frame\\notebook\\196.png: 192x416 (no detections), 0.0ms\n",
      "image 73/134 c:\\Users\\GPUserver\\yolov8\\frame\\notebook\\198.png: 192x416 (no detections), 19.3ms\n",
      "image 74/134 c:\\Users\\GPUserver\\yolov8\\frame\\notebook\\2.png: 192x416 (no detections), 11.3ms\n",
      "image 75/134 c:\\Users\\GPUserver\\yolov8\\frame\\notebook\\20.png: 192x416 (no detections), 1.0ms\n",
      "image 76/134 c:\\Users\\GPUserver\\yolov8\\frame\\notebook\\200.png: 192x416 (no detections), 0.0ms\n",
      "image 77/134 c:\\Users\\GPUserver\\yolov8\\frame\\notebook\\21.png: 192x416 (no detections), 0.0ms\n",
      "image 78/134 c:\\Users\\GPUserver\\yolov8\\frame\\notebook\\22.png: 192x416 (no detections), 0.0ms\n",
      "image 79/134 c:\\Users\\GPUserver\\yolov8\\frame\\notebook\\24.png: 192x416 (no detections), 0.0ms\n",
      "image 80/134 c:\\Users\\GPUserver\\yolov8\\frame\\notebook\\26.png: 192x416 (no detections), 12.8ms\n",
      "image 81/134 c:\\Users\\GPUserver\\yolov8\\frame\\notebook\\27.png: 192x416 (no detections), 19.7ms\n",
      "image 82/134 c:\\Users\\GPUserver\\yolov8\\frame\\notebook\\28.png: 192x416 (no detections), 25.4ms\n",
      "image 83/134 c:\\Users\\GPUserver\\yolov8\\frame\\notebook\\3.png: 192x416 (no detections), 0.0ms\n",
      "image 84/134 c:\\Users\\GPUserver\\yolov8\\frame\\notebook\\30.png: 192x416 (no detections), 17.2ms\n",
      "image 85/134 c:\\Users\\GPUserver\\yolov8\\frame\\notebook\\32.png: 192x416 (no detections), 26.3ms\n",
      "image 86/134 c:\\Users\\GPUserver\\yolov8\\frame\\notebook\\33.png: 192x416 (no detections), 0.0ms\n",
      "image 87/134 c:\\Users\\GPUserver\\yolov8\\frame\\notebook\\34.png: 192x416 (no detections), 0.0ms\n",
      "image 88/134 c:\\Users\\GPUserver\\yolov8\\frame\\notebook\\36.png: 192x416 (no detections), 14.3ms\n",
      "image 89/134 c:\\Users\\GPUserver\\yolov8\\frame\\notebook\\38.png: 192x416 (no detections), 21.4ms\n",
      "image 90/134 c:\\Users\\GPUserver\\yolov8\\frame\\notebook\\39.png: 192x416 (no detections), 15.7ms\n",
      "image 91/134 c:\\Users\\GPUserver\\yolov8\\frame\\notebook\\4.png: 192x416 (no detections), 2.1ms\n",
      "image 92/134 c:\\Users\\GPUserver\\yolov8\\frame\\notebook\\40.png: 192x416 (no detections), 0.0ms\n",
      "image 93/134 c:\\Users\\GPUserver\\yolov8\\frame\\notebook\\42.png: 192x416 (no detections), 0.0ms\n",
      "image 94/134 c:\\Users\\GPUserver\\yolov8\\frame\\notebook\\44.png: 192x416 (no detections), 3.9ms\n",
      "image 95/134 c:\\Users\\GPUserver\\yolov8\\frame\\notebook\\45.png: 192x416 (no detections), 0.0ms\n",
      "image 96/134 c:\\Users\\GPUserver\\yolov8\\frame\\notebook\\46.png: 192x416 (no detections), 0.0ms\n",
      "image 97/134 c:\\Users\\GPUserver\\yolov8\\frame\\notebook\\48.png: 192x416 (no detections), 3.5ms\n",
      "image 98/134 c:\\Users\\GPUserver\\yolov8\\frame\\notebook\\50.png: 192x416 (no detections), 19.1ms\n",
      "image 99/134 c:\\Users\\GPUserver\\yolov8\\frame\\notebook\\51.png: 192x416 (no detections), 24.3ms\n",
      "image 100/134 c:\\Users\\GPUserver\\yolov8\\frame\\notebook\\52.png: 192x416 (no detections), 0.0ms\n",
      "image 101/134 c:\\Users\\GPUserver\\yolov8\\frame\\notebook\\54.png: 192x416 (no detections), 0.0ms\n",
      "image 102/134 c:\\Users\\GPUserver\\yolov8\\frame\\notebook\\56.png: 192x416 (no detections), 0.0ms\n",
      "image 103/134 c:\\Users\\GPUserver\\yolov8\\frame\\notebook\\57.png: 192x416 (no detections), 4.1ms\n",
      "image 104/134 c:\\Users\\GPUserver\\yolov8\\frame\\notebook\\58.png: 192x416 (no detections), 0.0ms\n",
      "image 105/134 c:\\Users\\GPUserver\\yolov8\\frame\\notebook\\6.png: 192x416 (no detections), 19.8ms\n",
      "image 106/134 c:\\Users\\GPUserver\\yolov8\\frame\\notebook\\60.png: 192x416 (no detections), 3.7ms\n",
      "image 107/134 c:\\Users\\GPUserver\\yolov8\\frame\\notebook\\62.png: 192x416 (no detections), 0.0ms\n",
      "image 108/134 c:\\Users\\GPUserver\\yolov8\\frame\\notebook\\63.png: 192x416 (no detections), 0.0ms\n",
      "image 109/134 c:\\Users\\GPUserver\\yolov8\\frame\\notebook\\64.png: 192x416 (no detections), 16.8ms\n",
      "image 110/134 c:\\Users\\GPUserver\\yolov8\\frame\\notebook\\66.png: 192x416 (no detections), 23.8ms\n",
      "image 111/134 c:\\Users\\GPUserver\\yolov8\\frame\\notebook\\68.png: 192x416 (no detections), 0.0ms\n",
      "image 112/134 c:\\Users\\GPUserver\\yolov8\\frame\\notebook\\69.png: 192x416 (no detections), 0.0ms\n",
      "image 113/134 c:\\Users\\GPUserver\\yolov8\\frame\\notebook\\70.png: 192x416 (no detections), 1.7ms\n",
      "image 114/134 c:\\Users\\GPUserver\\yolov8\\frame\\notebook\\72.png: 192x416 (no detections), 17.4ms\n",
      "image 115/134 c:\\Users\\GPUserver\\yolov8\\frame\\notebook\\74.png: 192x416 (no detections), 20.7ms\n",
      "image 116/134 c:\\Users\\GPUserver\\yolov8\\frame\\notebook\\75.png: 192x416 (no detections), 15.7ms\n",
      "image 117/134 c:\\Users\\GPUserver\\yolov8\\frame\\notebook\\76.png: 192x416 (no detections), 4.1ms\n",
      "image 118/134 c:\\Users\\GPUserver\\yolov8\\frame\\notebook\\78.png: 192x416 (no detections), 14.3ms\n",
      "image 119/134 c:\\Users\\GPUserver\\yolov8\\frame\\notebook\\8.png: 192x416 (no detections), 17.6ms\n",
      "image 120/134 c:\\Users\\GPUserver\\yolov8\\frame\\notebook\\80.png: 192x416 (no detections), 3.7ms\n",
      "image 121/134 c:\\Users\\GPUserver\\yolov8\\frame\\notebook\\81.png: 192x416 (no detections), 0.0ms\n",
      "image 122/134 c:\\Users\\GPUserver\\yolov8\\frame\\notebook\\82.png: 192x416 (no detections), 0.0ms\n",
      "image 123/134 c:\\Users\\GPUserver\\yolov8\\frame\\notebook\\84.png: 192x416 (no detections), 12.0ms\n",
      "image 124/134 c:\\Users\\GPUserver\\yolov8\\frame\\notebook\\86.png: 192x416 (no detections), 17.7ms\n",
      "image 125/134 c:\\Users\\GPUserver\\yolov8\\frame\\notebook\\87.png: 192x416 (no detections), 2.0ms\n",
      "image 126/134 c:\\Users\\GPUserver\\yolov8\\frame\\notebook\\88.png: 192x416 (no detections), 0.7ms\n",
      "image 127/134 c:\\Users\\GPUserver\\yolov8\\frame\\notebook\\9.png: 192x416 (no detections), 0.0ms\n",
      "image 128/134 c:\\Users\\GPUserver\\yolov8\\frame\\notebook\\90.png: 192x416 (no detections), 0.0ms\n",
      "image 129/134 c:\\Users\\GPUserver\\yolov8\\frame\\notebook\\92.png: 192x416 (no detections), 12.0ms\n",
      "image 130/134 c:\\Users\\GPUserver\\yolov8\\frame\\notebook\\93.png: 192x416 (no detections), 18.2ms\n",
      "image 131/134 c:\\Users\\GPUserver\\yolov8\\frame\\notebook\\94.png: 192x416 (no detections), 8.5ms\n",
      "image 132/134 c:\\Users\\GPUserver\\yolov8\\frame\\notebook\\96.png: 192x416 (no detections), 0.2ms\n",
      "image 133/134 c:\\Users\\GPUserver\\yolov8\\frame\\notebook\\98.png: 192x416 (no detections), 0.0ms\n",
      "image 134/134 c:\\Users\\GPUserver\\yolov8\\frame\\notebook\\99.png: 192x416 (no detections), 0.0ms\n",
      "Speed: 1.4ms preprocess, 6.9ms inference, 1.9ms postprocess per image at shape (1, 3, 192, 416)\n"
     ]
    }
   ],
   "source": [
    "from ultralytics import YOLO\n",
    "import cv2\n",
    "model = YOLO(\"./runs/detect/train7/weights/best.pt\") # 원하는 크기 모델 입력(n ~ x)\n",
    "\n",
    "# 모델을 사용해 이미지 예측\n",
    "result = model.predict(source = \"./frame/notebook/*.png\", conf=0.1)"
   ]
  },
  {
   "cell_type": "markdown",
   "metadata": {},
   "source": [
    "```\n",
    "result = model.predict(source = \"./frame/notebook/*.png\",save=True, conf=0.5)\n",
    "```\n",
    "이러한 식으로 저장을 save를 하게되면 0, 10, 100, ... 순으로 저장이 되어서 나중에 처리하기 어려워진다.\n"
   ]
  },
  {
   "cell_type": "code",
   "execution_count": null,
   "metadata": {},
   "outputs": [],
   "source": [
    "result[2].path"
   ]
  },
  {
   "cell_type": "code",
   "execution_count": null,
   "metadata": {},
   "outputs": [],
   "source": [
    "import re\n",
    "for i in result:\n",
    "    print(i.path)"
   ]
  },
  {
   "cell_type": "code",
   "execution_count": null,
   "metadata": {},
   "outputs": [],
   "source": []
  },
  {
   "cell_type": "code",
   "execution_count": null,
   "metadata": {},
   "outputs": [],
   "source": [
    "import os\n",
    "import shutil\n",
    "\n",
    "# 폴더 생성\n",
    "person_predict_folder = \"person_predict_notebook\"\n",
    "if not os.path.exists(person_predict_folder):\n",
    "    os.makedirs(person_predict_folder)\n",
    "\n",
    "# 결과 처리\n",
    "for re in result:\n",
    "    # 각 예측 결과를 반복하여 사람 객체(cls==0)이 있는지 확인\n",
    "    has_person = any(int(cls) == 0 for cls in re.boxes.cls)\n",
    "\n",
    "    # 사람 객체가 있는 경우, 해당 이미지를 person_predict 폴더에 복사하여 저장\n",
    "    if has_person:\n",
    "        # 원본 이미지 경로 가져오기\n",
    "        original_image_path = re.path\n",
    "        # 파일명만 추출\n",
    "        file_name = os.path.basename(original_image_path)\n",
    "        # 새 저장 경로 지정\n",
    "        new_path = os.path.join(person_predict_folder, file_name)\n",
    "        # 이미지 복사 및 저장\n",
    "        shutil.copy(original_image_path, new_path)"
   ]
  },
  {
   "cell_type": "code",
   "execution_count": null,
   "metadata": {},
   "outputs": [],
   "source": []
  },
  {
   "cell_type": "code",
   "execution_count": null,
   "metadata": {},
   "outputs": [],
   "source": [
    "print(type(result))\n",
    "print(len(result[10]))"
   ]
  },
  {
   "cell_type": "code",
   "execution_count": null,
   "metadata": {},
   "outputs": [],
   "source": [
    "results_folder = \"result_pickle_notebook\"\n",
    "\n",
    "if not os.path.exists(results_folder):\n",
    "    os.makedirs(results_folder)\n",
    "\n",
    "for res in result:\n",
    "    # file_path = os.path.join(results_folder,f\"result_{i}.pk1\")\n",
    "    numbers = re.findall(r'\\d+', res)\n",
    "    result = ''.join(numbers)\n",
    "\n",
    "    print(result)  # 출력 결과: 123"
   ]
  },
  {
   "cell_type": "code",
   "execution_count": null,
   "metadata": {},
   "outputs": [],
   "source": [
    "# result 저장하기\n",
    "\n",
    "import os\n",
    "import pickle\n",
    "from ultralytics import YOLO\n",
    "\n",
    "results_folder = \"result_pickle_notebook\"\n",
    "\n",
    "if not os.path.exists(results_folder):\n",
    "    os.makedirs(results_folder)\n",
    "\n",
    "for i, re in enumerate(result):\n",
    "    file_path = os.path.join(results_folder,f\"result_{i}.pk1\")\n",
    "    with open(file_path,'wb') as f:\n",
    "        pickle.dump(result[i],f)\n",
    "        \n",
    "print(\"Results saved successfully.\")"
   ]
  },
  {
   "cell_type": "code",
   "execution_count": null,
   "metadata": {},
   "outputs": [],
   "source": [
    "# 특정 폴더 안에 있는 모든 폴더 리스트 구하기\n",
    "import os\n",
    "\n",
    "root_path = \"./result_pickle_notebook/\"\n",
    "pk_lists=os.listdir(root_path)\n",
    "\n",
    "loaded_result=[]\n",
    "results_folder = \"result_pickle_notebook\"\n",
    "for pk_list in pk_lists:\n",
    "    file_path = os.path.join(results_folder,pk_list)\n",
    "    with open(file_path,'rb') as f:\n",
    "        loaded_result.append(pickle.load(f))\n"
   ]
  },
  {
   "cell_type": "code",
   "execution_count": null,
   "metadata": {},
   "outputs": [],
   "source": [
    "# reuslt 불러오기\n",
    "\n",
    "import pickle\n",
    "\n",
    "results_folder = \"result_pickle_notebook\"\n",
    "\n",
    "\n",
    "file_path = os.path.join(results_folder,\"result_1.pk1\")\n",
    "with open(file_path,'rb') as f:\n",
    "    loaded_result = pickle.load(f)\n",
    "\n",
    "loaded_result"
   ]
  },
  {
   "cell_type": "code",
   "execution_count": null,
   "metadata": {},
   "outputs": [],
   "source": []
  },
  {
   "cell_type": "code",
   "execution_count": null,
   "metadata": {},
   "outputs": [],
   "source": [
    "import matplotlib.pyplot as plt\n",
    "\n",
    "original_img = loaded_result.orig_img\n",
    "\n",
    "plt.imshow(cv2.cvtColor(original_img,cv2.COLOR_BGR2RGB))"
   ]
  },
  {
   "cell_type": "code",
   "execution_count": null,
   "metadata": {},
   "outputs": [],
   "source": [
    "import re\n",
    "sorted_result=sorted(os.listdir(results_folder), key=lambda s: int(re.search(r'\\d+',s).group()))\n",
    "\n"
   ]
  },
  {
   "cell_type": "code",
   "execution_count": null,
   "metadata": {},
   "outputs": [],
   "source": [
    "# 저장된 모든 Results 객체 불러오기 및 시각화\n",
    "for filename in sorted_result:\n",
    "    file_path = os.path.join(results_folder, filename)\n",
    "    with open(file_path, 'rb') as f:\n",
    "        loaded_result = pickle.load(f)\n",
    "        \n",
    "    # 원본 이미지 가져오기\n",
    "    original_img = loaded_result.orig_img\n",
    "    plt.figure()\n",
    "    plt.imshow(cv2.cvtColor(original_img, cv2.COLOR_BGR2RGB))\n",
    "    plt.title(filename)\n",
    "    plt.axis('off')\n",
    "plt.show()"
   ]
  },
  {
   "cell_type": "code",
   "execution_count": null,
   "metadata": {},
   "outputs": [],
   "source": [
    "for load in loaded_result:\n",
    "    original_img = load.orig_img\n",
    "    plt.imshow(cv2.cvtColor(original_img,cv2.COLOR_BGR2RGB))"
   ]
  },
  {
   "cell_type": "code",
   "execution_count": null,
   "metadata": {},
   "outputs": [],
   "source": []
  },
  {
   "cell_type": "code",
   "execution_count": null,
   "metadata": {},
   "outputs": [],
   "source": []
  }
 ],
 "metadata": {
  "kernelspec": {
   "display_name": "yolov8",
   "language": "python",
   "name": "python3"
  },
  "language_info": {
   "codemirror_mode": {
    "name": "ipython",
    "version": 3
   },
   "file_extension": ".py",
   "mimetype": "text/x-python",
   "name": "python",
   "nbconvert_exporter": "python",
   "pygments_lexer": "ipython3",
   "version": "3.8.19"
  },
  "orig_nbformat": 4
 },
 "nbformat": 4,
 "nbformat_minor": 2
}
