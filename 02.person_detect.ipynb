{
 "cells": [
  {
   "cell_type": "code",
   "execution_count": null,
   "metadata": {},
   "outputs": [],
   "source": [
    "from ultralytics import YOLO\n",
    "import cv2\n",
    "model = YOLO(\"yolov8n.pt\") # 원하는 크기 모델 입력(n ~ x)\n",
    "\n",
    "# 모델을 사용해 이미지 예측\n",
    "result = model.predict(source = \"./frame/notebook/*.png\",save=True, conf=0.5)"
   ]
  },
  {
   "cell_type": "markdown",
   "metadata": {},
   "source": [
    "```\n",
    "result = model.predict(source = \"./frame/notebook/*.png\",save=True, conf=0.5)\n",
    "```\n",
    "이러한 식으로 저장을 save를 하게되면 0, 10, 100, ... 순으로 저장이 되어서 나중에 처리하기 어려워진다.\n"
   ]
  },
  {
   "cell_type": "code",
   "execution_count": null,
   "metadata": {},
   "outputs": [],
   "source": [
    "result[2].path"
   ]
  },
  {
   "cell_type": "code",
   "execution_count": null,
   "metadata": {},
   "outputs": [],
   "source": [
    "import re\n",
    "for i in result:\n",
    "    print(i.path)"
   ]
  },
  {
   "cell_type": "code",
   "execution_count": null,
   "metadata": {},
   "outputs": [],
   "source": []
  },
  {
   "cell_type": "code",
   "execution_count": null,
   "metadata": {},
   "outputs": [],
   "source": [
    "import os\n",
    "import shutil\n",
    "\n",
    "# 폴더 생성\n",
    "person_predict_folder = \"person_predict_notebook\"\n",
    "if not os.path.exists(person_predict_folder):\n",
    "    os.makedirs(person_predict_folder)\n",
    "\n",
    "# 결과 처리\n",
    "for re in result:\n",
    "    # 각 예측 결과를 반복하여 사람 객체(cls==0)이 있는지 확인\n",
    "    has_person = any(int(cls) == 0 for cls in re.boxes.cls)\n",
    "\n",
    "    # 사람 객체가 있는 경우, 해당 이미지를 person_predict 폴더에 복사하여 저장\n",
    "    if has_person:\n",
    "        # 원본 이미지 경로 가져오기\n",
    "        original_image_path = re.path\n",
    "        # 파일명만 추출\n",
    "        file_name = os.path.basename(original_image_path)\n",
    "        # 새 저장 경로 지정\n",
    "        new_path = os.path.join(person_predict_folder, file_name)\n",
    "        # 이미지 복사 및 저장\n",
    "        shutil.copy(original_image_path, new_path)"
   ]
  },
  {
   "cell_type": "code",
   "execution_count": null,
   "metadata": {},
   "outputs": [],
   "source": []
  },
  {
   "cell_type": "code",
   "execution_count": null,
   "metadata": {},
   "outputs": [],
   "source": [
    "print(type(result))\n",
    "print(len(result[10]))"
   ]
  },
  {
   "cell_type": "code",
   "execution_count": null,
   "metadata": {},
   "outputs": [],
   "source": [
    "results_folder = \"result_pickle_notebook\"\n",
    "\n",
    "if not os.path.exists(results_folder):\n",
    "    os.makedirs(results_folder)\n",
    "\n",
    "for res in result:\n",
    "    # file_path = os.path.join(results_folder,f\"result_{i}.pk1\")\n",
    "    numbers = re.findall(r'\\d+', res)\n",
    "    result = ''.join(numbers)\n",
    "\n",
    "    print(result)  # 출력 결과: 123"
   ]
  },
  {
   "cell_type": "code",
   "execution_count": null,
   "metadata": {},
   "outputs": [],
   "source": [
    "# result 저장하기\n",
    "\n",
    "import os\n",
    "import pickle\n",
    "from ultralytics import YOLO\n",
    "\n",
    "results_folder = \"result_pickle_notebook\"\n",
    "\n",
    "if not os.path.exists(results_folder):\n",
    "    os.makedirs(results_folder)\n",
    "\n",
    "for i, re in enumerate(result):\n",
    "    file_path = os.path.join(results_folder,f\"result_{i}.pk1\")\n",
    "    with open(file_path,'wb') as f:\n",
    "        pickle.dump(result[i],f)\n",
    "        \n",
    "print(\"Results saved successfully.\")"
   ]
  },
  {
   "cell_type": "code",
   "execution_count": null,
   "metadata": {},
   "outputs": [],
   "source": [
    "# 특정 폴더 안에 있는 모든 폴더 리스트 구하기\n",
    "import os\n",
    "\n",
    "root_path = \"./result_pickle_notebook/\"\n",
    "pk_lists=os.listdir(root_path)\n",
    "\n",
    "loaded_result=[]\n",
    "results_folder = \"result_pickle_notebook\"\n",
    "for pk_list in pk_lists:\n",
    "    file_path = os.path.join(results_folder,pk_list)\n",
    "    with open(file_path,'rb') as f:\n",
    "        loaded_result.append(pickle.load(f))\n"
   ]
  },
  {
   "cell_type": "code",
   "execution_count": null,
   "metadata": {},
   "outputs": [],
   "source": [
    "# reuslt 불러오기\n",
    "\n",
    "import pickle\n",
    "\n",
    "results_folder = \"result_pickle_notebook\"\n",
    "\n",
    "\n",
    "file_path = os.path.join(results_folder,\"result_1.pk1\")\n",
    "with open(file_path,'rb') as f:\n",
    "    loaded_result = pickle.load(f)\n",
    "\n",
    "loaded_result"
   ]
  },
  {
   "cell_type": "code",
   "execution_count": null,
   "metadata": {},
   "outputs": [],
   "source": []
  },
  {
   "cell_type": "code",
   "execution_count": null,
   "metadata": {},
   "outputs": [],
   "source": [
    "import matplotlib.pyplot as plt\n",
    "\n",
    "original_img = loaded_result.orig_img\n",
    "\n",
    "plt.imshow(cv2.cvtColor(original_img,cv2.COLOR_BGR2RGB))"
   ]
  },
  {
   "cell_type": "code",
   "execution_count": null,
   "metadata": {},
   "outputs": [],
   "source": [
    "import re\n",
    "sorted_result=sorted(os.listdir(results_folder), key=lambda s: int(re.search(r'\\d+',s).group()))\n",
    "\n"
   ]
  },
  {
   "cell_type": "code",
   "execution_count": null,
   "metadata": {},
   "outputs": [],
   "source": [
    "# 저장된 모든 Results 객체 불러오기 및 시각화\n",
    "for filename in sorted_result:\n",
    "    file_path = os.path.join(results_folder, filename)\n",
    "    with open(file_path, 'rb') as f:\n",
    "        loaded_result = pickle.load(f)\n",
    "        \n",
    "    # 원본 이미지 가져오기\n",
    "    original_img = loaded_result.orig_img\n",
    "    plt.figure()\n",
    "    plt.imshow(cv2.cvtColor(original_img, cv2.COLOR_BGR2RGB))\n",
    "    plt.title(filename)\n",
    "    plt.axis('off')\n",
    "plt.show()"
   ]
  },
  {
   "cell_type": "code",
   "execution_count": null,
   "metadata": {},
   "outputs": [],
   "source": [
    "for load in loaded_result:\n",
    "    original_img = load.orig_img\n",
    "    plt.imshow(cv2.cvtColor(original_img,cv2.COLOR_BGR2RGB))"
   ]
  },
  {
   "cell_type": "code",
   "execution_count": null,
   "metadata": {},
   "outputs": [],
   "source": []
  },
  {
   "cell_type": "code",
   "execution_count": null,
   "metadata": {},
   "outputs": [],
   "source": []
  }
 ],
 "metadata": {
  "kernelspec": {
   "display_name": "yolov8",
   "language": "python",
   "name": "python3"
  },
  "language_info": {
   "codemirror_mode": {
    "name": "ipython",
    "version": 3
   },
   "file_extension": ".py",
   "mimetype": "text/x-python",
   "name": "python",
   "nbconvert_exporter": "python",
   "pygments_lexer": "ipython3",
   "version": "3.8.19"
  },
  "orig_nbformat": 4
 },
 "nbformat": 4,
 "nbformat_minor": 2
}
